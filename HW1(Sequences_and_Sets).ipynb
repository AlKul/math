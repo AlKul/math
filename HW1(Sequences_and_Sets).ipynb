{
 "cells": [
  {
   "cell_type": "markdown",
   "metadata": {},
   "source": [
    "# Дз - Множества и последовательности"
   ]
  },
  {
   "cell_type": "markdown",
   "metadata": {},
   "source": [
    "### №1 \n",
    "\n",
    "Как соотносятся понятия “множество” и “последовательность”?"
   ]
  },
  {
   "cell_type": "markdown",
   "metadata": {},
   "source": [
    "Последовательность, видимо, является дочерним субъектом для множества, которое может быть задано как последовательность элементов, соответствующих какому-либо признаку"
   ]
  },
  {
   "cell_type": "markdown",
   "metadata": {},
   "source": [
    "### №2\n",
    "\n",
    "Прочитать высказывания математической логики, построить их отрицания и установить\n",
    "истинность."
   ]
  },
  {
   "cell_type": "markdown",
   "metadata": {},
   "source": [
    "1)Для любого y такого, что знак = 1..?  \n",
    "Нет, sgn(0) = 0\n",
    "\n",
    "Отрицание:\n",
    "\n",
    "$\\exists y : sgn(y)\\ne 1$\n",
    "\n",
    "А оно уже верно\n",
    "\n",
    "2) Верное высказывание\n",
    "\n",
    "Отрицание: $\\exists n\\in \\mathbb{N} > 2 : \\forall x, y, z\\in \\mathbb{N}: x^n \\ne y^n + z^n$\n",
    "\n",
    "Оно уже неверно\n",
    "\n",
    "3) Верное высказывание\n",
    "\n",
    "Отрицание: $\\exists x \\in \\mathbb{R}: \\forall X \\in \\mathbb{R} : X \\le x$\n",
    "\n",
    "4) для любого комплексного x не существует комплексного y, что либо одно больше, либо второе...я не понял. Если имелось в виду, что не введено отношение порядка, то вроде да, а иначе я не понял, что хотели сказать\n",
    "\n",
    "отрицание: есть такое комплексное, что для любого другого первое ни больше ни меньше. Если правильно понял, то неверно\n",
    "\n",
    "5) Неверно, потому что верно отрицание, а именно:\n",
    "\n",
    "$\\exists y\\in[0, \\frac{\\pi}{2}] : \\forall \\varepsilon > 0 : \\sin(y) \\ge sin(y + \\varepsilon)$\n",
    "\n",
    "И да, такой имеется - пи пополам\n",
    "\n",
    "6) Да, верно\n",
    "\n",
    "Обратное: $\\exists y \\in [0, \\pi) : \\forall \\varepsilon > 0 : cos(y) \\le cos(y + \\varepsilon)$\n",
    "\n",
    "7) Надеюсь, я правильно понял: существует такой элемент икс, который не принадлежит множеству, которое содержит Множество натуральных, множество целых и так далее. Тогда ответ \"да\". Если же имелось в виду, что существует такой элемент, что ничему из упомянутого не принадлежит...да тоже верно - извращенцы-математики много чего напридумывали.\n",
    "\n",
    "Отрицание: нет такого элемента, который бы принадлежал"
   ]
  },
  {
   "cell_type": "markdown",
   "metadata": {},
   "source": [
    "### №3"
   ]
  },
  {
   "cell_type": "markdown",
   "metadata": {},
   "source": [
    "Даны три множества a,b и с. Необходимо выполнить все изученные виды бинарных\n",
    "операций над всеми комбинациями множеств."
   ]
  },
  {
   "cell_type": "markdown",
   "metadata": {},
   "source": [
    "Если позволите, давайте сразу к реализации:"
   ]
  },
  {
   "cell_type": "code",
   "execution_count": 16,
   "metadata": {},
   "outputs": [
    {
     "name": "stdout",
     "output_type": "stream",
     "text": [
      "A: [1, 2, 3, 4] \n",
      "B: [0, 3, 6, 4, 10]\n",
      "Intersection\n",
      "A*B = [3, 4]     \n",
      "Union\n",
      "     A + B = [1, 2, 3, 4, 0, 6, 10]\n",
      "     A\\B = [1, 2]\n",
      "     B\\A = [0, 6, 10]\n",
      "     A∆B = [0, 6, 10, 1, 2]\n"
     ]
    }
   ],
   "source": [
    "def binary_ops(A, B):\n",
    "    res_conjunction = []\n",
    "    res_disjunction = []\n",
    "    res_subtractionA_B = []\n",
    "    res_subtractionB_A = []\n",
    "    res_symmetric_subtraction = []\n",
    "\n",
    "    \n",
    "    for a in A:\n",
    "        if a in B:\n",
    "            res_conjunction.append(a)\n",
    "    for a in A:\n",
    "        if a not in res_conjunction:\n",
    "            res_subtractionA_B.append(a)\n",
    "    for b in B:\n",
    "        if b not in res_conjunction:\n",
    "            res_subtractionB_A.append(b)\n",
    "    res_disjunction = res_subtractionA_B + res_conjunction + res_subtractionB_A\n",
    "    res_symmetric_subtraction = res_subtractionB_A + res_subtractionA_B\n",
    "\n",
    "    print(f'A: {A} \\nB: {B}\\nIntersection\\nA*B = {res_conjunction} \\\n",
    "    \\nUnion\\n     A + B = {res_disjunction}\\n \\\n",
    "    A\\B = {res_subtractionA_B}\\n \\\n",
    "    B\\A = {res_subtractionB_A}\\n \\\n",
    "    A∆B = {res_symmetric_subtraction}')\n",
    "A = [1, 2, 3, 4]\n",
    "B = [0, 3, 6, 4, 10]\n",
    "\n",
    "binary_ops(A, B)"
   ]
  },
  {
   "cell_type": "markdown",
   "metadata": {},
   "source": []
  }
 ],
 "metadata": {
  "kernelspec": {
   "display_name": "Python 3",
   "language": "python",
   "name": "python3"
  },
  "language_info": {
   "codemirror_mode": {
    "name": "ipython",
    "version": 3
   },
   "file_extension": ".py",
   "mimetype": "text/x-python",
   "name": "python",
   "nbconvert_exporter": "python",
   "pygments_lexer": "ipython3",
   "version": "3.6.1"
  }
 },
 "nbformat": 4,
 "nbformat_minor": 2
}
