{
 "cells": [
  {
   "cell_type": "markdown",
   "metadata": {},
   "source": [
    "# Дз2 - последовательность"
   ]
  },
  {
   "cell_type": "markdown",
   "metadata": {},
   "source": [
    "### 1) Даны 4 последовательности. Необходимо:\n",
    "1) исследовать их на монотонность; \n",
    "2)исследовать на ограниченность;\n",
    "3) найти пятыйпо счету член.\n"
   ]
  },
  {
   "cell_type": "markdown",
   "metadata": {},
   "source": [
    "$\\{a_n\\}_{n=1}^{\\infty} = 2^n - n$"
   ]
  },
  {
   "cell_type": "markdown",
   "metadata": {},
   "source": [
    "<ol>\n",
    "<li>монотонность: <\\li>\n",
    "Монотонно возрастает\n",
    "<li>Ограниченность: <\\li>\n",
    "    Неограниченна\n",
    "<li>$a_5 = 27$<\\li>\n",
    "    \n",
    "---"
   ]
  },
  {
   "cell_type": "markdown",
   "metadata": {},
   "source": [
    "$\\{b_n\\}_{n=2}^{\\infty} = \\frac{1}{1-n}$"
   ]
  },
  {
   "cell_type": "markdown",
   "metadata": {},
   "source": [
    "<ol>\n",
    "<li>монотонность: <\\li>\n",
    "Монотонно возрастает\n",
    "<li>Ограниченность: <\\li>\n",
    "    Ограниченна нулем слева\n",
    "<li>$b_5 = -0.25$<\\li>\n",
    "<\\ol>    \n",
    "    \n",
    "---"
   ]
  },
  {
   "cell_type": "markdown",
   "metadata": {},
   "source": [
    "$\\{c_n\\}_{n=1}^{\\infty} = -1^n + \\sqrt{2n}$"
   ]
  },
  {
   "cell_type": "markdown",
   "metadata": {},
   "source": [
    "<ol>\n",
    "<li>монотонность: <\\li>\n",
    "Монотонно возрастает\n",
    "<li>Ограниченность: <\\li>\n",
    "    Неограниченна\n",
    "<li>$c_5 = -1 + \\sqrt{5}$<\\li>\n",
    "<\\ol>    \n",
    "    \n",
    "---"
   ]
  },
  {
   "cell_type": "markdown",
   "metadata": {},
   "source": [
    "$\\{d_n\\}_{n=1}^{\\infty} = (-1)^{2n} + \\frac{1}{n^2}$"
   ]
  },
  {
   "cell_type": "markdown",
   "metadata": {},
   "source": [
    "<ol>\n",
    "<li>монотонность: <\\li>\n",
    "Монотонно убывает\n",
    "<li>Ограниченность: <\\li>\n",
    "    Ограниченна единицей справа\n",
    "<li>$d_5 = 1 \\frac{1}{25}$<\\li>\n",
    "<\\ol>    \n",
    "    \n",
    "---"
   ]
  },
  {
   "cell_type": "markdown",
   "metadata": {},
   "source": [
    "### 2) Найти 12-й член заданной неявно последовательности\n"
   ]
  },
  {
   "cell_type": "markdown",
   "metadata": {},
   "source": [
    "$a_1 = 128$\n",
    "\n",
    "$a_{n+1} - a_n = 6$\n",
    "\n",
    "---"
   ]
  },
  {
   "cell_type": "markdown",
   "metadata": {},
   "source": [
    "$a_{n+1} = a_n + 6$\n",
    "$a_{12} = a_1 + 6\\cdot 11 = 128 + 6\\cdot 11 = 194$\n"
   ]
  },
  {
   "cell_type": "markdown",
   "metadata": {},
   "source": [
    "### 3) На языке Python предложить алгоритм вычисляющий численно предел с точностью \n",
    "\n"
   ]
  },
  {
   "cell_type": "code",
   "execution_count": 35,
   "metadata": {},
   "outputs": [
    {
     "name": "stdout",
     "output_type": "stream",
     "text": [
      "1\n"
     ]
    },
    {
     "data": {
      "text/plain": [
       "2.617701998673183"
      ]
     },
     "execution_count": 35,
     "metadata": {},
     "output_type": "execute_result"
    }
   ],
   "source": [
    "import math\n",
    "from decimal import Decimal\n",
    "\n",
    "# Подготовим факториал\n",
    "def factorial(n):\n",
    "    if n == 1:\n",
    "        return 1\n",
    "    return(n*factorial(n-1))\n",
    "# И подсчет самой функции\n",
    "def func(n):\n",
    "    return n/(factorial(n))**(1./n)\n",
    "\n",
    "def find_limit(eps = 1e-10):\n",
    "    k = 1\n",
    "    print(k)\n",
    "    while abs(func(k) - func(k+1)) - eps > 0:\n",
    "        k+=1\n",
    "    return func(k)\n",
    "# Функция у нас вроде как монотонна, поэтому будем сравнивать соседние элементы\n",
    "\n",
    "find_limit(1e-3)\n",
    "#func(169) - func(170)"
   ]
  },
  {
   "cell_type": "markdown",
   "metadata": {},
   "source": [
    "Такая была идея, но факториал очень быстро набирает, возникают ошибки. Как обойти - пока не въехал"
   ]
  }
 ],
 "metadata": {
  "kernelspec": {
   "display_name": "Python 3",
   "language": "python",
   "name": "python3"
  },
  "language_info": {
   "codemirror_mode": {
    "name": "ipython",
    "version": 3
   },
   "file_extension": ".py",
   "mimetype": "text/x-python",
   "name": "python",
   "nbconvert_exporter": "python",
   "pygments_lexer": "ipython3",
   "version": "3.6.1"
  }
 },
 "nbformat": 4,
 "nbformat_minor": 2
}
